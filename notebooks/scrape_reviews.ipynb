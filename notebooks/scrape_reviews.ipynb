{
 "cells": [
  {
   "cell_type": "code",
   "execution_count": 1,
   "id": "84a2da9a",
   "metadata": {},
   "outputs": [],
   "source": [
    "from google_play_scraper import reviews\n",
    "import pandas as pd\n",
    "from datetime import datetime"
   ]
  },
  {
   "cell_type": "code",
   "execution_count": 14,
   "id": "641e014e",
   "metadata": {},
   "outputs": [
    {
     "data": {
      "text/plain": [
       "' from google_play_scraper import Sort, reviews\\nbank_playstore_id= \"com.combanketh.mobilebanking\" # Replace with the actual Play Store ID of the bank\\'s app\\nresult, continuation_token = reviews(\\n    bank_playstore_id,\\n    lang=\"en\",  # defaults to \\'en\\'\\n    country=\"us\",  # defaults to \\'us\\'\\n    sort=Sort.NEWEST,  # defaults to Sort.NEWEST\\n    count=100,  # defaults to 100\\n    filter_score_with=None,  # defaults to None(means all score)\\n)\\nfor i, review in enumerate(result, 4):\\n    print(f\"\\n:small_blue_diamond: Review {i}\")\\n    print(f\"  :adult: User Name        : {review.get(\\'userName\\', \\'\\')}\")\\n    print(f\"  :star: Rating           : {review.get(\\'score\\', \\'\\')}\")\\n    print(\\n        f\"  :date: Date            : {review.get(\\'at\\').strftime(\\'%Y-%m-%d %H:%M:%S\\') if review.get(\\'at\\') else \\'N/A\\'}\"\\n    )\\n    print(f\"  :memo: Review Content   : {review.get(\\'content\\', \\'\\')}\")\\n    print(f\"  :id: Review ID        : {review.get(\\'reviewId\\', \\'\\')}\")\\n    print(f\"  :iphone: App Version      : {review.get(\\'appVersion\\', \\'\\')}\")\\n    print(f\"  :repeat: Replied At       : {review.get(\\'repliedAt\\', \\'—\\')}\")\\n    print(f\"  :speech_balloon: Reply Content    : {review.get(\\'replyContent\\', \\'—\\')}\")\\n    print(f\"  :+1: Thumbs Up Count  : {review.get(\\'thumbsUpCount\\', \\'\\')}\")\\n    print(f\"  :globe_with_meridians: User Image URL   : {review.get(\\'userImage\\', \\'\\')}\")\\n    print(\"-\" * 70) '"
      ]
     },
     "execution_count": 14,
     "metadata": {},
     "output_type": "execute_result"
    }
   ],
   "source": [
    "\"\"\" from google_play_scraper import Sort, reviews\n",
    "bank_playstore_id= \"com.combanketh.mobilebanking\" # Replace with the actual Play Store ID of the bank's app\n",
    "result, continuation_token = reviews(\n",
    "    bank_playstore_id,\n",
    "    lang=\"en\",  # defaults to 'en'\n",
    "    country=\"us\",  # defaults to 'us'\n",
    "    sort=Sort.NEWEST,  # defaults to Sort.NEWEST\n",
    "    count=100,  # defaults to 100\n",
    "    filter_score_with=None,  # defaults to None(means all score)\n",
    ")\n",
    "for i, review in enumerate(result, 4):\n",
    "    print(f\"\\n:small_blue_diamond: Review {i}\")\n",
    "    print(f\"  :adult: User Name        : {review.get('userName', '')}\")\n",
    "    print(f\"  :star: Rating           : {review.get('score', '')}\")\n",
    "    print(\n",
    "        f\"  :date: Date            : {review.get('at').strftime('%Y-%m-%d %H:%M:%S') if review.get('at') else 'N/A'}\"\n",
    "    )\n",
    "    print(f\"  :memo: Review Content   : {review.get('content', '')}\")\n",
    "    print(f\"  :id: Review ID        : {review.get('reviewId', '')}\")\n",
    "    print(f\"  :iphone: App Version      : {review.get('appVersion', '')}\")\n",
    "    print(f\"  :repeat: Replied At       : {review.get('repliedAt', '—')}\")\n",
    "    print(f\"  :speech_balloon: Reply Content    : {review.get('replyContent', '—')}\")\n",
    "    print(f\"  :+1: Thumbs Up Count  : {review.get('thumbsUpCount', '')}\")\n",
    "    print(f\"  :globe_with_meridians: User Image URL   : {review.get('userImage', '')}\")\n",
    "    print(\"-\" * 70) \"\"\""
   ]
  },
  {
   "cell_type": "code",
   "execution_count": 15,
   "id": "5d76624a",
   "metadata": {},
   "outputs": [],
   "source": [
    "def fetch_reviews(app_id, bank_name, count=400):\n",
    "    result, _ = reviews(app_id, lang='en', country='us', count=count)\n",
    "    for entry in result:\n",
    "        entry['bank'] = bank_name\n",
    "        entry['source'] = \"Google Play\"\n",
    "    return result"
   ]
  },
  {
   "cell_type": "code",
   "execution_count": 18,
   "id": "2898d18b",
   "metadata": {},
   "outputs": [],
   "source": [
    "def main():\n",
    "    banks = {\n",
    "        \"Commercial Bank of Ethiopia\": \"com.combanketh.mobilebanking\",\n",
    "        \"Bank of Abyssinia\": \"com.boa.boaMobileBanking\",\n",
    "        \"Dashen Bank\": \"com.dashen.dashensuperapp\"\n",
    "    }\n",
    "\n",
    "    all_reviews = []\n",
    "    for bank, app_id in banks.items():\n",
    "        print(f\"Fetching reviews for {bank}...\")\n",
    "        data = fetch_reviews(app_id, bank)\n",
    "        all_reviews.extend(data)\n",
    "\n",
    "    df = pd.DataFrame(all_reviews)\n",
    "\n",
    "    # Debugging aid\n",
    "    print(\"Columns available:\", df.columns)\n",
    "\n",
    "    # Clean and rename\n",
    "    df = df[['content', 'score', 'at', 'bank', 'source']]\n",
    "    df.columns = ['review', 'rating', 'date', 'bank', 'source']\n",
    "\n",
    "    df.to_csv(\"../data/raw_reviews.csv\", index=False)\n",
    "    print(\"✅ Reviews saved to data/raw_reviews.csv\")\n"
   ]
  },
  {
   "cell_type": "code",
   "execution_count": 19,
   "id": "b7b33430",
   "metadata": {},
   "outputs": [
    {
     "name": "stdout",
     "output_type": "stream",
     "text": [
      "Fetching reviews for Commercial Bank of Ethiopia...\n",
      "Fetching reviews for Bank of Abyssinia...\n",
      "Fetching reviews for Dashen Bank...\n",
      "Columns available: Index(['reviewId', 'userName', 'userImage', 'content', 'score',\n",
      "       'thumbsUpCount', 'reviewCreatedVersion', 'at', 'replyContent',\n",
      "       'repliedAt', 'appVersion', 'bank', 'source'],\n",
      "      dtype='object')\n",
      "✅ Reviews saved to data/raw_reviews.csv\n"
     ]
    }
   ],
   "source": [
    "if __name__ == \"__main__\":\n",
    "    main()"
   ]
  }
 ],
 "metadata": {
  "kernelspec": {
   "display_name": ".venv",
   "language": "python",
   "name": "python3"
  },
  "language_info": {
   "codemirror_mode": {
    "name": "ipython",
    "version": 3
   },
   "file_extension": ".py",
   "mimetype": "text/x-python",
   "name": "python",
   "nbconvert_exporter": "python",
   "pygments_lexer": "ipython3",
   "version": "3.12.3"
  }
 },
 "nbformat": 4,
 "nbformat_minor": 5
}
