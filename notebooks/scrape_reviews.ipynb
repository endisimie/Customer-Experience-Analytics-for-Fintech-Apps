{
 "cells": [
  {
   "cell_type": "code",
   "execution_count": 1,
   "id": "84a2da9a",
   "metadata": {},
   "outputs": [],
   "source": [
    "from google_play_scraper import reviews\n",
    "import pandas as pd\n",
    "from datetime import datetime"
   ]
  },
  {
   "cell_type": "code",
   "execution_count": 15,
   "id": "5d76624a",
   "metadata": {},
   "outputs": [],
   "source": [
    "def fetch_reviews(app_id, bank_name, count=400):\n",
    "    result, _ = reviews(app_id, lang='en', country='us', count=count)\n",
    "    for entry in result:\n",
    "        entry['bank'] = bank_name\n",
    "        entry['source'] = \"Google Play\"\n",
    "    return result"
   ]
  },
  {
   "cell_type": "code",
   "execution_count": 18,
   "id": "2898d18b",
   "metadata": {},
   "outputs": [],
   "source": [
    "def main():\n",
    "    banks = {\n",
    "        \"Commercial Bank of Ethiopia\": \"com.combanketh.mobilebanking\",\n",
    "        \"Bank of Abyssinia\": \"com.boa.boaMobileBanking\",\n",
    "        \"Dashen Bank\": \"com.dashen.dashensuperapp\"\n",
    "    }\n",
    "\n",
    "    all_reviews = []\n",
    "    for bank, app_id in banks.items():\n",
    "        print(f\"Fetching reviews for {bank}...\")\n",
    "        data = fetch_reviews(app_id, bank)\n",
    "        all_reviews.extend(data)\n",
    "\n",
    "    df = pd.DataFrame(all_reviews)\n",
    "\n",
    "    # Debugging aid\n",
    "    print(\"Columns available:\", df.columns)\n",
    "\n",
    "    # Clean and rename\n",
    "    df = df[['content', 'score', 'at', 'bank', 'source']]\n",
    "    df.columns = ['review', 'rating', 'date', 'bank', 'source']\n",
    "\n",
    "    df.to_csv(\"../data/raw_reviews.csv\", index=False)\n",
    "    print(\"✅ Reviews saved to data/raw_reviews.csv\")\n"
   ]
  },
  {
   "cell_type": "code",
   "execution_count": 19,
   "id": "b7b33430",
   "metadata": {},
   "outputs": [
    {
     "name": "stdout",
     "output_type": "stream",
     "text": [
      "Fetching reviews for Commercial Bank of Ethiopia...\n",
      "Fetching reviews for Bank of Abyssinia...\n",
      "Fetching reviews for Dashen Bank...\n",
      "Columns available: Index(['reviewId', 'userName', 'userImage', 'content', 'score',\n",
      "       'thumbsUpCount', 'reviewCreatedVersion', 'at', 'replyContent',\n",
      "       'repliedAt', 'appVersion', 'bank', 'source'],\n",
      "      dtype='object')\n",
      "✅ Reviews saved to data/raw_reviews.csv\n"
     ]
    }
   ],
   "source": [
    "if __name__ == \"__main__\":\n",
    "    main()"
   ]
  }
 ],
 "metadata": {
  "kernelspec": {
   "display_name": ".venv",
   "language": "python",
   "name": "python3"
  },
  "language_info": {
   "codemirror_mode": {
    "name": "ipython",
    "version": 3
   },
   "file_extension": ".py",
   "mimetype": "text/x-python",
   "name": "python",
   "nbconvert_exporter": "python",
   "pygments_lexer": "ipython3",
   "version": "3.12.3"
  }
 },
 "nbformat": 4,
 "nbformat_minor": 5
}
