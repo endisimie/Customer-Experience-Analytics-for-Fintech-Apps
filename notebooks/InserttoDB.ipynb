{
 "cells": [
  {
   "cell_type": "code",
   "execution_count": 60,
   "id": "cbdac7ae",
   "metadata": {},
   "outputs": [
    {
     "name": "stdout",
     "output_type": "stream",
     "text": [
      "DEBUG: New bank_id type: <class 'list'>, value: [51.0]\n",
      "DEBUG: New bank_id type: <class 'list'>, value: [52.0]\n",
      "DEBUG: New bank_id type: <class 'list'>, value: [53.0]\n",
      "Index(['review', 'bank', 'rating', 'sentiment_label', 'sentiment_score',\n",
      "       'themes'],\n",
      "      dtype='object')\n",
      "Data successfully inserted into the database.\n"
     ]
    }
   ],
   "source": [
    "import pandas as pd\n",
    "import cx_Oracle\n",
    "\n",
    "# Load cleaned dataset\n",
    "df = pd.read_csv('../data/task2_results.csv')\n",
    "\n",
    "# Replace with your own credentials and DSN\n",
    "dsn = cx_Oracle.makedsn(\"localhost\", 1521, service_name=\"XEPDB1\")\n",
    "conn = cx_Oracle.connect(user=\"endalew\", password=\"mine\", dsn=dsn)\n",
    "cursor = conn.cursor()\n",
    "\n",
    "# Insert unique banks into `banks` table and map to IDs\n",
    "banks = df['bank'].dropna().unique()\n",
    "bank_id_map = {}\n",
    "\n",
    "for bank in banks:\n",
    "    # Check if bank already exists\n",
    "    cursor.execute(\"SELECT bank_id FROM banks WHERE bank_name = :1\", [bank])\n",
    "    result = cursor.fetchone()\n",
    "\n",
    "    if result:\n",
    "        bank_id_raw = result[0] # Use a temporary variable for the raw value\n",
    "        print(f\"DEBUG: Existing bank_id type: {type(bank_id_raw)}, value: {bank_id_raw}\") # Debug print\n",
    "    else:\n",
    "        bank_id_var = cursor.var(cx_Oracle.NUMBER)\n",
    "        cursor.execute(\n",
    "            \"INSERT INTO banks (bank_name) VALUES (:1) RETURNING bank_id INTO :2\",\n",
    "            [bank, bank_id_var]\n",
    "        )\n",
    "        bank_id_raw = bank_id_var.getvalue() # Use a temporary variable for the raw value\n",
    "        print(f\"DEBUG: New bank_id type: {type(bank_id_raw)}, value: {bank_id_raw}\") # Debug print\n",
    "\n",
    "    # THIS IS THE CRUCIAL CHANGE: Safely convert to int\n",
    "    if isinstance(bank_id_raw, list) and len(bank_id_raw) > 0:\n",
    "        # Extract the first element if it's a list (as your debug showed)\n",
    "        bank_id_map[bank] = int(bank_id_raw[0])\n",
    "    else:\n",
    "        # Otherwise, assume it's directly convertible (e.g., a float or int)\n",
    "        bank_id_map[bank] = int(bank_id_raw)\n",
    "\n",
    "# Prepare data for efficient insertion using executemany\n",
    "print(df.columns)  # See actual column names\n",
    "\n",
    "# Suppose your date column is 'review_date', then:\n",
    "for _, row in df.iterrows():\n",
    "    cursor.execute(\"\"\"\n",
    "        INSERT INTO reviews (review_text, rating, sentiment_label, sentiment_score, theme, bank_id)\n",
    "        VALUES (:1, :2, :3, :4, :5, :6)\n",
    "    \"\"\", (\n",
    "        row['review'], row['rating'], \n",
    "        row.get('sentiment_label', None), row.get('sentiment_score', None),\n",
    "        row.get('theme', None), bank_id_map[row['bank']]\n",
    "    ))\n",
    "\n",
    "\n",
    "# Commit and close\n",
    "conn.commit()\n",
    "cursor.close()\n",
    "conn.close()\n",
    "\n",
    "print(\"Data successfully inserted into the database.\")"
   ]
  }
 ],
 "metadata": {
  "kernelspec": {
   "display_name": ".venv",
   "language": "python",
   "name": "python3"
  },
  "language_info": {
   "codemirror_mode": {
    "name": "ipython",
    "version": 3
   },
   "file_extension": ".py",
   "mimetype": "text/x-python",
   "name": "python",
   "nbconvert_exporter": "python",
   "pygments_lexer": "ipython3",
   "version": "3.12.3"
  }
 },
 "nbformat": 4,
 "nbformat_minor": 5
}
