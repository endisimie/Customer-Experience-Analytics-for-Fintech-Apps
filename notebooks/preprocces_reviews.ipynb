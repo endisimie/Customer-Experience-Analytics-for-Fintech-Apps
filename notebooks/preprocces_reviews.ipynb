{
 "cells": [
  {
   "cell_type": "code",
   "execution_count": 2,
   "id": "3ad9eaab",
   "metadata": {},
   "outputs": [],
   "source": [
    "#import dependencies\n",
    "import pandas as pd\n"
   ]
  },
  {
   "cell_type": "markdown",
   "id": "ff8fe594",
   "metadata": {},
   "source": [
    "preproccessing the reviews data "
   ]
  },
  {
   "cell_type": "code",
   "execution_count": null,
   "id": "71f17414",
   "metadata": {},
   "outputs": [
    {
     "name": "stdout",
     "output_type": "stream",
     "text": [
      "✅ Cleaned data saved to ../data/clean_reviews1.csv\n",
      "📊 Total reviews: 986, Missing: 0\n"
     ]
    }
   ],
   "source": [
    "def clean_reviews(input_path, output_path):\n",
    "    \n",
    "    df = pd.read_csv(input_path)\n",
    "\n",
    "    # Drop duplicates and rows with missing values\n",
    "    df.drop_duplicates(subset=[\"review\"], inplace=True)\n",
    "    df.dropna(inplace=True)\n",
    "\n",
    "    # Normalize date\n",
    "    df['date'] = pd.to_datetime(df['date']).dt.strftime('%Y-%m-%d')\n",
    "\n",
    "    df.to_csv(output_path, index=False)\n",
    "    print(f\"✅ Cleaned data saved to {output_path}\")\n",
    "    print(f\"📊 Total reviews: {len(df)}, Missing: {df.isnull().sum().sum()}\")\n",
    "\n",
    "if __name__ == \"__main__\":\n",
    "    input_path=\"../data/raw_reviews.csv\"\n",
    "    output_path=\"../data/clean_reviews.csv\"\n",
    "    clean_reviews(input_path,output_path)\n"
   ]
  },
  {
   "cell_type": "code",
   "execution_count": null,
   "id": "d1112707",
   "metadata": {},
   "outputs": [],
   "source": []
  }
 ],
 "metadata": {
  "kernelspec": {
   "display_name": ".venv",
   "language": "python",
   "name": "python3"
  },
  "language_info": {
   "codemirror_mode": {
    "name": "ipython",
    "version": 3
   },
   "file_extension": ".py",
   "mimetype": "text/x-python",
   "name": "python",
   "nbconvert_exporter": "python",
   "pygments_lexer": "ipython3",
   "version": "3.12.3"
  }
 },
 "nbformat": 4,
 "nbformat_minor": 5
}
